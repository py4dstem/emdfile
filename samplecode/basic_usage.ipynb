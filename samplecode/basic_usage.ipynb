{
 "cells": [
  {
   "cell_type": "markdown",
   "id": "4f3b64c9-3c10-4d05-a5ed-4ecf7f910758",
   "metadata": {},
   "source": [
    "# `emdfile` Basic Usage\n",
    "\n",
    "Some basic examples are given below.  See also the emdfile documentation pages. [[TODO link]]\n",
    "\n",
    "### Contents\n",
    "\n",
    "- [Basics](#basics)\n",
    "  - [Save & read an array](#basics-array)\n",
    "  - [Save & read a dictionary](#basics-dict)\n",
    "  - [Save & read several arrays](#basics-array-collection)\n",
    "  - [Save & read several dictionaries](#basics-dict-collection)\n",
    "- [Trees](#build-trees)\n",
    "  - [Build a tree](#build-a-tree)\n",
    "  - [Inspect a Python tree](#inspect-runtime-tree)\n",
    "  - [Save a tree](#save-a-tree)\n",
    "  - [Inspect an HDF5 tree](#inspect-filesystem-tree)\n",
    "  - [Read from an HDF5 tree](#read-from-a-tree)\n",
    "- [Metadata](#include-metadata)\n",
    "  - [Read dictionaries to ``Metadata``](#read-dicts-to-metadata)\n",
    "  - [Use ``Metadata`` like dictionaries](#read-dicts-to-metadata)\n",
    "  - [Store various data types](#metadata-dtypes)\n",
    "- [Nodes](#work-with-nodes)\n",
    "  - [Nodes have names](#node-names)\n",
    "  - [Nodes hold arbitrary metadata](#node-metadata)\n",
    "  - [Nodes have a versatile `.tree` method](#node-trees)\n",
    "- [Arrays](#arrays-calibrations)\n",
    "  - [Minimal ``Array`` instantiation](#minimal-array)\n",
    "  - [``Array`` with calibrations](#calibrated-array)\n",
    "- [More Data Classes](#more-data-classes)\n",
    "  - [``PointList``](#pointlists)\n",
    "  - [``PointListArray``](#pointlistarrays)\n",
    "- [Append Mode](#append)\n",
    "  - [Append two EMD trees to one file](#two-trees-one-file)\n",
    "  - [Append new data into an existing EMD tree](#append-diffmerge-1)\n",
    "  - [Append-over mode to overwrite data](#append-diffmerge-2)"
   ]
  },
  {
   "cell_type": "code",
   "execution_count": 1,
   "id": "e885c6c6-f50c-4435-a3b5-09a25085a2d1",
   "metadata": {},
   "outputs": [],
   "source": [
    "import emdfile as emd, numpy as np\n",
    "path = \"/Users/Ben_1/Desktop/test-emdfile.h5\""
   ]
  },
  {
   "cell_type": "markdown",
   "id": "a59eed25-76b3-49a7-8ac0-1ac0aed8d1e5",
   "metadata": {},
   "source": [
    "<a name=\"basics\"></a>\n",
    "## Basics"
   ]
  },
  {
   "cell_type": "markdown",
   "id": "41d25f42-c8b7-4b30-bfa0-cca84af2c021",
   "metadata": {},
   "source": [
    "<a name=\"basics-array\"></a>\n",
    "#### Save & read an array"
   ]
  },
  {
   "cell_type": "code",
   "execution_count": 2,
   "id": "84f3cb22-286d-4e7e-920e-9ef6d605b24e",
   "metadata": {},
   "outputs": [
    {
     "name": "stdout",
     "output_type": "stream",
     "text": [
      "Array( A 2-dimensional array of shape (5, 5) called 'np.array',\n",
      "       with dimensions:\n",
      "\n",
      "           dim0 = [0,1,2,...] pixels\n",
      "           dim1 = [0,1,2,...] pixels\n",
      ")\n",
      "[[0.08066823 0.3855435  0.41075189 0.6103807  0.38235884]\n",
      " [0.46849205 0.5654167  0.86886856 0.30828458 0.52199845]\n",
      " [0.23115325 0.40894516 0.96305373 0.73815512 0.86366473]\n",
      " [0.91220756 0.08353876 0.97418133 0.68328141 0.02632076]\n",
      " [0.68015992 0.32665775 0.59773418 0.82131054 0.94496314]]\n"
     ]
    }
   ],
   "source": [
    "ar = np.random.random((5,5))\n",
    "emd.save(path, ar, mode='o')\n",
    "_ar = emd.read(path)\n",
    "\n",
    "print(_ar)\n",
    "print(_ar.data)"
   ]
  },
  {
   "cell_type": "markdown",
   "id": "ef3b609a-0908-46cb-84ec-f02984b85923",
   "metadata": {},
   "source": [
    "<a name=\"basics-dict\"></a>\n",
    "#### Save and read a Python dictionary"
   ]
  },
  {
   "cell_type": "code",
   "execution_count": 3,
   "id": "a0e9db54-00aa-43da-a943-bb579cace97c",
   "metadata": {},
   "outputs": [
    {
     "name": "stdout",
     "output_type": "stream",
     "text": [
      "Metadata( A Metadata instance called 'dictionary', containing the following fields:\n",
      "\n",
      "          a:   1\n",
      "          b:   2\n",
      ")\n",
      "{'a': 1, 'b': 2}\n"
     ]
    }
   ],
   "source": [
    "dic = {'a':1, 'b':2}\n",
    "emd.save(path, dic, mode='o')\n",
    "_dic = emd.read(path)\n",
    "\n",
    "print(_dic)\n",
    "print(_dic._params)"
   ]
  },
  {
   "cell_type": "markdown",
   "id": "3d26e7fa-edc9-471d-8733-8c9f9a313df9",
   "metadata": {},
   "source": [
    "<a name=\"basics-array-collection\"></a>\n",
    "#### Save and read several arrays"
   ]
  },
  {
   "cell_type": "code",
   "execution_count": 4,
   "id": "3061a966-f400-47be-b7e9-00df9de7e9e5",
   "metadata": {},
   "outputs": [
    {
     "name": "stdout",
     "output_type": "stream",
     "text": [
      "[1 2 3]\n",
      "[[False False False False]\n",
      " [False False False False]\n",
      " [False False False False]\n",
      " [False False False False]]\n",
      "[[[0.+0.j 0.+0.j 0.+0.j 0.+0.j]\n",
      "  [0.+0.j 0.+0.j 0.+0.j 0.+0.j]\n",
      "  [0.+0.j 0.+0.j 0.+0.j 0.+0.j]]\n",
      "\n",
      " [[0.+0.j 0.+0.j 0.+0.j 0.+0.j]\n",
      "  [0.+0.j 0.+0.j 0.+0.j 0.+0.j]\n",
      "  [0.+0.j 0.+0.j 0.+0.j 0.+0.j]]]\n"
     ]
    }
   ],
   "source": [
    "ar_A = np.array([1,2,3])\n",
    "ar_B = np.zeros((4,4),dtype=bool)\n",
    "ar_C = np.zeros((2,3,4),dtype=np.complex64)\n",
    "emd.save(path, [ar_A,ar_B,ar_C], mode='o')\n",
    "\n",
    "# and read them again\n",
    "\n",
    "data = emd.read(path)\n",
    "_ar_A = data.tree('array_0')\n",
    "_ar_B = data.tree('array_1')\n",
    "_ar_C = data.tree('array_2')\n",
    "print(_ar_A.data)\n",
    "print(_ar_B.data)\n",
    "print(_ar_C.data)"
   ]
  },
  {
   "cell_type": "markdown",
   "id": "46e688dd-f6c8-4b32-9905-494217fc3a82",
   "metadata": {},
   "source": [
    "<a name=\"basics-dict-collection\"></a>\n",
    "#### Save and read several dictionaries"
   ]
  },
  {
   "cell_type": "code",
   "execution_count": 5,
   "id": "9adbc389-ce65-4a63-962a-05e5483dcb39",
   "metadata": {},
   "outputs": [
    {
     "name": "stdout",
     "output_type": "stream",
     "text": [
      "Metadata( A Metadata instance called 'dictionary_0', containing the following fields:\n",
      "\n",
      "          a:   1\n",
      "          b:   3.14\n",
      ")\n",
      "Metadata( A Metadata instance called 'dictionary_1', containing the following fields:\n",
      "\n",
      "          x:   True\n",
      "          y:   None\n",
      ")\n",
      "Metadata( A Metadata instance called 'dictionary_2', containing the following fields:\n",
      "\n",
      "          q:   2D-array\n",
      "          r:   (4, 5, 6)\n",
      ")\n"
     ]
    }
   ],
   "source": [
    "dic_A = {'a':1, 'b':3.14}\n",
    "dic_B = {'x':True, 'y':None}\n",
    "dic_C = {'q':np.zeros((2,2)), 'r':(4,5,6)}\n",
    "emd.save(path, [dic_A,dic_B,dic_C], mode='o')\n",
    "\n",
    "data = emd.read(path)\n",
    "_dic_A = data.metadata['dictionary_0']\n",
    "_dic_B = data.metadata['dictionary_1']\n",
    "_dic_C = data.metadata['dictionary_2']\n",
    "print(_dic_A)\n",
    "print(_dic_B)\n",
    "print(_dic_C)"
   ]
  },
  {
   "cell_type": "markdown",
   "id": "a91cf503-aab2-46a0-948d-47373acdb04e",
   "metadata": {},
   "source": [
    "<a name=\"build-trees\"></a>\n",
    "## Trees\n",
    "\n",
    "Build trees by adding parent-child relationships between data nodes"
   ]
  },
  {
   "cell_type": "markdown",
   "id": "c2c60143-1cec-4af9-b16e-d2d64e439ca8",
   "metadata": {},
   "source": [
    "<a name=\"build-a-tree\"></a>\n",
    "#### Build a tree"
   ]
  },
  {
   "cell_type": "code",
   "execution_count": 6,
   "id": "d22114d9-202f-4781-ab0d-0660135036e7",
   "metadata": {},
   "outputs": [],
   "source": [
    "R = emd.Root()\n",
    "A = emd.Node('A')\n",
    "B = emd.Node('B')\n",
    "C = emd.Node('C')\n",
    "\n",
    "R.tree(A)\n",
    "R.tree(B)\n",
    "B.tree(C)"
   ]
  },
  {
   "cell_type": "markdown",
   "id": "ad9114d7-6067-4a64-8c4a-f6e203abd51a",
   "metadata": {},
   "source": [
    "<a name=\"inspect-runtime-tree\"></a>\n",
    "#### Inspect a runtime (Python) tree"
   ]
  },
  {
   "cell_type": "code",
   "execution_count": 7,
   "id": "4156801c-05f5-4787-a8ac-a2d0cd935a38",
   "metadata": {},
   "outputs": [
    {
     "name": "stdout",
     "output_type": "stream",
     "text": [
      "/\n",
      "|---A\n",
      "|---B\n",
      "    |---C\n"
     ]
    }
   ],
   "source": [
    "R.tree()"
   ]
  },
  {
   "cell_type": "markdown",
   "id": "f632f22a-6db1-4096-8ea5-4ad0d21c7598",
   "metadata": {},
   "source": [
    "<a name=\"save-a-tree\"></a>\n",
    "#### Save a tree"
   ]
  },
  {
   "cell_type": "code",
   "execution_count": 8,
   "id": "063709a6-138a-4ff4-acb1-2b9f941bf56c",
   "metadata": {},
   "outputs": [],
   "source": [
    "emd.save(path, R, mode='o')"
   ]
  },
  {
   "cell_type": "markdown",
   "id": "f6cdce04-68ba-42b2-9dcf-69e8fb0a51c5",
   "metadata": {},
   "source": [
    "<a name=\"inspect-filesystem-tree\"></a>\n",
    "#### Inspect a filesystem (HDF5) tree"
   ]
  },
  {
   "cell_type": "code",
   "execution_count": 9,
   "id": "e01ffa07-7763-456e-9b2a-bf298d7349e1",
   "metadata": {},
   "outputs": [
    {
     "name": "stdout",
     "output_type": "stream",
     "text": [
      "/\n",
      "|---root\n",
      "    |---A\n",
      "    |---B\n",
      "        |---C\n",
      "\n",
      "\n"
     ]
    }
   ],
   "source": [
    "emd.printtree(path)"
   ]
  },
  {
   "cell_type": "markdown",
   "id": "def3441c-a998-4df2-a58d-9cde5096f5e7",
   "metadata": {},
   "source": [
    "<a name=\"read-from-a-tree\"></a>\n",
    "#### Read from an HDF5 tree"
   ]
  },
  {
   "cell_type": "code",
   "execution_count": 10,
   "id": "2623b2f6-f9b9-4bf3-91bc-f18e95237137",
   "metadata": {},
   "outputs": [
    {
     "name": "stdout",
     "output_type": "stream",
     "text": [
      "Root( A Node called 'root', containing the following top-level objects in its tree:\n",
      "\n",
      "          A                        \t (Node)\n",
      "          B                        \t (Node)\n",
      ")\n",
      "Node( A Node called 'A', containing the following top-level objects in its tree:\n",
      "\n",
      ")\n",
      "Node( A Node called 'B', containing the following top-level objects in its tree:\n",
      "\n",
      "          C                        \t (Node)\n",
      ")\n",
      "Node( A Node called 'B', containing the following top-level objects in its tree:\n",
      "\n",
      ")\n"
     ]
    }
   ],
   "source": [
    "data_0 = emd.read(path)\n",
    "data_1 = emd.read(path, emdpath='root/A')                  # reads A\n",
    "data_2 = emd.read(path, emdpath='root/B')                  # reads B---C\n",
    "data_3 = emd.read(path, emdpath='root/B', tree=False)      # reads B only\n",
    "\n",
    "print(data_0)\n",
    "print(data_1)\n",
    "print(data_2)\n",
    "print(data_3)"
   ]
  },
  {
   "cell_type": "markdown",
   "id": "3815f482-b44a-41ee-b80b-d02cc63e03db",
   "metadata": {},
   "source": [
    "<a name=\"include-metadata\"></a>\n",
    "## Metadata\n",
    "\n",
    "Store data in nested key-value dictionary-like structures.  Many ``Metadata`` instances can be stored in each ``Node``."
   ]
  },
  {
   "cell_type": "markdown",
   "id": "0f9a3294-e7b9-42c3-8f13-dfcd8c587ac0",
   "metadata": {},
   "source": [
    "<a name=\"read-dicts-to-metadata\"></a>\n",
    "#### Read dictionaries to ``Metadata``"
   ]
  },
  {
   "cell_type": "code",
   "execution_count": 11,
   "id": "8ae274c9-cbaf-4926-8330-6e532bfaeb53",
   "metadata": {},
   "outputs": [
    {
     "name": "stdout",
     "output_type": "stream",
     "text": [
      "Metadata( A Metadata instance called 'dictionary', containing the following fields:\n",
      "\n",
      "          a:   1\n",
      "          b:   2\n",
      ")\n"
     ]
    }
   ],
   "source": [
    "# Saving then reading a dictionary returns a Metadata instance\n",
    "\n",
    "emd.save(path, {'a':1,'b':2}, mode='o')\n",
    "x = emd.read(path)\n",
    "print(x)"
   ]
  },
  {
   "cell_type": "markdown",
   "id": "8429739c-0e56-456f-ad61-40d160a230b1",
   "metadata": {},
   "source": [
    "<a name=\"read-dicts-to-metadata\"></a>\n",
    "#### Use ``Metadata`` like dictionaries"
   ]
  },
  {
   "cell_type": "code",
   "execution_count": 12,
   "id": "5c6ef10d-a711-43d2-943c-19576cbb2e52",
   "metadata": {},
   "outputs": [
    {
     "data": {
      "text/plain": [
       "1"
      ]
     },
     "execution_count": 12,
     "metadata": {},
     "output_type": "execute_result"
    }
   ],
   "source": [
    "# Return a value\n",
    "\n",
    "x['a']"
   ]
  },
  {
   "cell_type": "code",
   "execution_count": 13,
   "id": "2c2f8cc7-0cf4-4860-8d15-9b81f1cedefd",
   "metadata": {},
   "outputs": [
    {
     "name": "stdout",
     "output_type": "stream",
     "text": [
      "Metadata( A Metadata instance called 'dictionary', containing the following fields:\n",
      "\n",
      "          a:   1\n",
      "          b:   2\n",
      "          c:   3\n",
      ")\n"
     ]
    }
   ],
   "source": [
    "# Assign a value\n",
    "\n",
    "x['c'] = 3\n",
    "\n",
    "print(x)"
   ]
  },
  {
   "cell_type": "markdown",
   "id": "f8f61a2d-ad91-4e16-829a-f18c70a53343",
   "metadata": {},
   "source": [
    "<a name=\"metadata-dtypes\"></a>\n",
    "#### ``Metadata`` stores various data types"
   ]
  },
  {
   "cell_type": "code",
   "execution_count": 14,
   "id": "67514dc3-894f-4e3f-a1cc-dcf055419bdd",
   "metadata": {},
   "outputs": [],
   "source": [
    "m = emd.Metadata( name='my_metadata' )\n",
    "m['x'] = True\n",
    "m['y'] = np.random.random((3,4,5))\n",
    "m['z'] = {\n",
    "    'alpha' : None,\n",
    "    'beta' : {\n",
    "        'gamma' : [10,11,12]\n",
    "    }\n",
    "}\n",
    "emd.save(path, m, mode='o')"
   ]
  },
  {
   "cell_type": "code",
   "execution_count": 15,
   "id": "af014b41-48eb-4206-8316-4be4416b13f2",
   "metadata": {},
   "outputs": [
    {
     "name": "stdout",
     "output_type": "stream",
     "text": [
      "Metadata( A Metadata instance called 'my_metadata', containing the following fields:\n",
      "\n",
      "          x:   True\n",
      "          y:   3D-array\n",
      "          z:   {'alpha': None, 'beta': {'gamma': [10, 11, 12]}}\n",
      ")\n"
     ]
    }
   ],
   "source": [
    "_m = emd.read(path)\n",
    "print(_m)"
   ]
  },
  {
   "cell_type": "markdown",
   "id": "ab1c1522-e452-4d0f-87b2-086632386d6f",
   "metadata": {},
   "source": [
    "<a name=\"work-with-nodes\"></a>\n",
    "## Nodes\n",
    "\n",
    "Every ``emdfile`` class other than ``Metadata`` inherits from ``Node``, enabling tree operations, arbitrary metadata storage, and reading & writing."
   ]
  },
  {
   "cell_type": "markdown",
   "id": "27bedfa0-9468-478b-a36e-535105073e34",
   "metadata": {},
   "source": [
    "<a name=\"node-names\"></a>\n",
    "#### Nodes have names"
   ]
  },
  {
   "cell_type": "code",
   "execution_count": 16,
   "id": "01aef5aa-3148-410b-8f4e-fa93ce563529",
   "metadata": {},
   "outputs": [
    {
     "name": "stdout",
     "output_type": "stream",
     "text": [
      "my_node\n"
     ]
    }
   ],
   "source": [
    "node = emd.Node( name='my_node' )\n",
    "print(node.name)"
   ]
  },
  {
   "cell_type": "markdown",
   "id": "202333fb-52db-4022-979e-a3614171f90f",
   "metadata": {},
   "source": [
    "<a name=\"node-metadata\"></a>\n",
    "#### Nodes hold arbitrary metadata"
   ]
  },
  {
   "cell_type": "code",
   "execution_count": 17,
   "id": "0f770bab-8a74-4264-a8fd-9ec7ed623bd5",
   "metadata": {},
   "outputs": [],
   "source": [
    "node.metadata = emd.Metadata('md1',{'x':1,'y':2})\n",
    "node.metadata = emd.Metadata('md2',{'a':1,'b':{'c':2,'d':3}})"
   ]
  },
  {
   "cell_type": "code",
   "execution_count": 18,
   "id": "2e59d675-878e-479e-8781-4ebb50ee128f",
   "metadata": {},
   "outputs": [
    {
     "data": {
      "text/plain": [
       "{'md1': Metadata( A Metadata instance called 'md1', containing the following fields:\n",
       " \n",
       "           x:   1\n",
       "           y:   2\n",
       " ),\n",
       " 'md2': Metadata( A Metadata instance called 'md2', containing the following fields:\n",
       " \n",
       "           a:   1\n",
       "           b:   {'c': 2, 'd': 3}\n",
       " )}"
      ]
     },
     "execution_count": 18,
     "metadata": {},
     "output_type": "execute_result"
    }
   ],
   "source": [
    "node.metadata"
   ]
  },
  {
   "cell_type": "code",
   "execution_count": 19,
   "id": "079440e4-a392-4666-98d3-f5dd494f61d4",
   "metadata": {},
   "outputs": [
    {
     "data": {
      "text/plain": [
       "Metadata( A Metadata instance called 'md1', containing the following fields:\n",
       "\n",
       "          x:   1\n",
       "          y:   2\n",
       ")"
      ]
     },
     "execution_count": 19,
     "metadata": {},
     "output_type": "execute_result"
    }
   ],
   "source": [
    "node.metadata['md1']"
   ]
  },
  {
   "cell_type": "markdown",
   "id": "aa08eb64-9ca8-45c4-ab6f-a356d422aa08",
   "metadata": {},
   "source": [
    "<a name=\"node-trees\"></a>\n",
    "#### Nodes have a `.tree` method\n",
    "\n",
    "``.tree`` is versatile, enabling building, displaying, and modification of trees."
   ]
  },
  {
   "cell_type": "code",
   "execution_count": 20,
   "id": "392c6da6-65de-474c-8efa-19ca318f02a4",
   "metadata": {},
   "outputs": [
    {
     "data": {
      "text/plain": [
       "\u001b[0;31mSignature:\u001b[0m \u001b[0mnode\u001b[0m\u001b[0;34m.\u001b[0m\u001b[0mtree\u001b[0m\u001b[0;34m(\u001b[0m\u001b[0marg\u001b[0m\u001b[0;34m=\u001b[0m\u001b[0;32mNone\u001b[0m\u001b[0;34m,\u001b[0m \u001b[0;34m**\u001b[0m\u001b[0mkwargs\u001b[0m\u001b[0;34m)\u001b[0m\u001b[0;34m\u001b[0m\u001b[0;34m\u001b[0m\u001b[0m\n",
       "\u001b[0;31mDocstring:\u001b[0m\n",
       "Usages -\n",
       "\n",
       "    >>> node.tree()                # show the tree downstream of this node\n",
       "    >>> node.tree(show=True)       # show the full tree from the root node\n",
       "    >>> node.tree(show=False)      # show from current node\n",
       "    >>> node.tree('path/to/node')  # return the node at the chosen location\n",
       "    >>> node.tree('/path/to/node') # specifiy the location starting from root\n",
       "    >>> node.tree(node)            # add a child node; must be a Node instance\n",
       "    >>> node.tree(cut=True)        # remove & return a branch; include root metadata\n",
       "    >>> node.tree(cut=False)       # discard root metadata\n",
       "    >>> node.tree(cut='copy')      # copy root metadata\n",
       "    >>> node.tree(graft=node)      # remove & graft a branch; add new root metadata\n",
       "    >>> node.tree(graft=(node,False))   # discard root metadata\n",
       "    >>> node.tree(graft=(node,'copy'))  # copy new root metadata\n",
       "    >>> node.tree(graft=(node,'overwrite'))  # add root metadata, overwrite conflicts\n",
       "    >>> node.tree(graft=(node,'copyover'))  # copy root metadata, overwrite conflicts\n",
       "\n",
       "See the node.show, node.cut, node.graft, and node.add_to_tree docstrings\n",
       "for more info.\n",
       "\u001b[0;31mFile:\u001b[0m      ~/work/emd/emdfile/src/emdfile/classes/node.py\n",
       "\u001b[0;31mType:\u001b[0m      method"
      ]
     },
     "metadata": {},
     "output_type": "display_data"
    }
   ],
   "source": [
    "node.tree?"
   ]
  },
  {
   "cell_type": "markdown",
   "id": "3f57277e-3d0b-479e-a59b-bed10c6f2584",
   "metadata": {},
   "source": [
    "<a name=\"arrays-calibrations\"></a>\n",
    "## Arrays\n",
    "\n",
    "Each has some built-in calibrating metadata - below are examples with ``Array``s.  "
   ]
  },
  {
   "cell_type": "markdown",
   "id": "b37912bf-03b6-45bf-a2f1-d660208cc160",
   "metadata": {},
   "source": [
    "<a name=\"minimal-array\"></a>\n",
    "#### Minimal ``Array`` instatiation"
   ]
  },
  {
   "cell_type": "code",
   "execution_count": 21,
   "id": "cdebdf75-569c-49cc-b65e-d0bb216d00a0",
   "metadata": {},
   "outputs": [],
   "source": [
    "array = emd.Array(np.random.random((3,3)))"
   ]
  },
  {
   "cell_type": "markdown",
   "id": "ade85a92-1842-44ab-bc1e-10022211e1b1",
   "metadata": {},
   "source": [
    "<a name=\"calibrated-array\"></a>\n",
    "#### ``Array`` with calibrations"
   ]
  },
  {
   "cell_type": "code",
   "execution_count": 22,
   "id": "b8e4186c-4ef3-41b5-bd69-05fb74a06ddd",
   "metadata": {},
   "outputs": [
    {
     "name": "stdout",
     "output_type": "stream",
     "text": [
      "Array( A 3-dimensional array of shape (20, 40, 1000) called '3ddatacube',\n",
      "       with dimensions:\n",
      "\n",
      "           x = [0,5,10,...] nm\n",
      "           y = [0,5,10,...] nm\n",
      "           E = [0.0,0.02,0.04,...] eV\n",
      ")\n"
     ]
    }
   ],
   "source": [
    "ar = emd.Array(\n",
    "    np.ones((20,40,1000)),\n",
    "    name = '3ddatacube',\n",
    "    units = 'intensity',\n",
    "    dims = [\n",
    "        [0,5],\n",
    "        [0,5],\n",
    "        [0,0.02],\n",
    "    ],\n",
    "    dim_units = [\n",
    "        'nm',\n",
    "        'nm',\n",
    "        'eV'\n",
    "    ],\n",
    "    dim_names = [\n",
    "        'x',\n",
    "        'y',\n",
    "        'E',\n",
    "    ],\n",
    ")\n",
    "\n",
    "print(ar)"
   ]
  },
  {
   "cell_type": "code",
   "execution_count": 23,
   "id": "db79cc6e-7fc4-4851-b31d-0b520ac70f8d",
   "metadata": {},
   "outputs": [],
   "source": [
    "#print(ar.dims)"
   ]
  },
  {
   "cell_type": "code",
   "execution_count": 24,
   "id": "a0ff8384-b638-497f-a2b5-cec780425c1e",
   "metadata": {},
   "outputs": [
    {
     "data": {
      "text/plain": [
       "array([ 0,  5, 10, 15, 20, 25, 30, 35, 40, 45, 50, 55, 60, 65, 70, 75, 80,\n",
       "       85, 90, 95])"
      ]
     },
     "execution_count": 24,
     "metadata": {},
     "output_type": "execute_result"
    }
   ],
   "source": [
    "ar.get_dim(0)"
   ]
  },
  {
   "cell_type": "code",
   "execution_count": 25,
   "id": "db774a1e-84cb-4f2e-8a23-2db848496598",
   "metadata": {},
   "outputs": [
    {
     "data": {
      "text/plain": [
       "\u001b[0;31mSignature:\u001b[0m\n",
       "\u001b[0mar\u001b[0m\u001b[0;34m.\u001b[0m\u001b[0mset_dim\u001b[0m\u001b[0;34m(\u001b[0m\u001b[0;34m\u001b[0m\n",
       "\u001b[0;34m\u001b[0m    \u001b[0mn\u001b[0m\u001b[0;34m:\u001b[0m \u001b[0mint\u001b[0m\u001b[0;34m,\u001b[0m\u001b[0;34m\u001b[0m\n",
       "\u001b[0;34m\u001b[0m    \u001b[0mdim\u001b[0m\u001b[0;34m:\u001b[0m \u001b[0mUnion\u001b[0m\u001b[0;34m[\u001b[0m\u001b[0mlist\u001b[0m\u001b[0;34m,\u001b[0m \u001b[0mnumpy\u001b[0m\u001b[0;34m.\u001b[0m\u001b[0mndarray\u001b[0m\u001b[0;34m]\u001b[0m\u001b[0;34m,\u001b[0m\u001b[0;34m\u001b[0m\n",
       "\u001b[0;34m\u001b[0m    \u001b[0munits\u001b[0m\u001b[0;34m:\u001b[0m \u001b[0mOptional\u001b[0m\u001b[0;34m[\u001b[0m\u001b[0mstr\u001b[0m\u001b[0;34m]\u001b[0m \u001b[0;34m=\u001b[0m \u001b[0;32mNone\u001b[0m\u001b[0;34m,\u001b[0m\u001b[0;34m\u001b[0m\n",
       "\u001b[0;34m\u001b[0m    \u001b[0mname\u001b[0m\u001b[0;34m:\u001b[0m \u001b[0mOptional\u001b[0m\u001b[0;34m[\u001b[0m\u001b[0mstr\u001b[0m\u001b[0;34m]\u001b[0m \u001b[0;34m=\u001b[0m \u001b[0;32mNone\u001b[0m\u001b[0;34m,\u001b[0m\u001b[0;34m\u001b[0m\n",
       "\u001b[0;34m\u001b[0m\u001b[0;34m)\u001b[0m\u001b[0;34m\u001b[0m\u001b[0;34m\u001b[0m\u001b[0m\n",
       "\u001b[0;31mDocstring:\u001b[0m\n",
       "Sets the n'th dim vector, using ``dim`` as described in the Array\n",
       "documentation. If ``units`` and/or ``name`` are passed, sets these\n",
       "values for the n'th dim vector.\n",
       "\n",
       "Parameters\n",
       "----------\n",
       "n : int\n",
       "    specifies which dim vector\n",
       "dim : list or array\n",
       "    length must be either 2, or match the length of the n'th axis\n",
       "units : str\n",
       "name : str\n",
       "\u001b[0;31mFile:\u001b[0m      ~/work/emd/emdfile/src/emdfile/classes/array.py\n",
       "\u001b[0;31mType:\u001b[0m      method"
      ]
     },
     "metadata": {},
     "output_type": "display_data"
    }
   ],
   "source": [
    "ar.set_dim?\n",
    "# ar.set_dim_units?\n",
    "# ar.set_dim_name?"
   ]
  },
  {
   "cell_type": "markdown",
   "id": "e01bf65e-0b19-4879-8184-b65914bee076",
   "metadata": {},
   "source": [
    "<a name=\"more-data-classes\"></a>\n",
    "## More data classes\n",
    "\n",
    "Normal data-holding classes include ``Array``, ``PointList``, and ``PointListArray``."
   ]
  },
  {
   "cell_type": "markdown",
   "id": "3ee38158-884c-4d14-96b6-81468e19d8f2",
   "metadata": {},
   "source": [
    "<a name=\"pointlists\"></a>\n",
    "#### ``PointList``"
   ]
  },
  {
   "cell_type": "code",
   "execution_count": 26,
   "id": "e8a9f656-3684-44c1-b603-08a921b55e61",
   "metadata": {},
   "outputs": [
    {
     "data": {
      "text/plain": [
       "\u001b[0;31mInit signature:\u001b[0m \u001b[0memd\u001b[0m\u001b[0;34m.\u001b[0m\u001b[0mPointList\u001b[0m\u001b[0;34m(\u001b[0m\u001b[0mdata\u001b[0m\u001b[0;34m:\u001b[0m \u001b[0mnumpy\u001b[0m\u001b[0;34m.\u001b[0m\u001b[0mndarray\u001b[0m\u001b[0;34m,\u001b[0m \u001b[0mname\u001b[0m\u001b[0;34m:\u001b[0m \u001b[0mOptional\u001b[0m\u001b[0;34m[\u001b[0m\u001b[0mstr\u001b[0m\u001b[0;34m]\u001b[0m \u001b[0;34m=\u001b[0m \u001b[0;34m'pointlist'\u001b[0m\u001b[0;34m)\u001b[0m\u001b[0;34m\u001b[0m\u001b[0;34m\u001b[0m\u001b[0m\n",
       "\u001b[0;31mDocstring:\u001b[0m     \n",
       "PointList instances represent sets of points in some M dimensional space.\n",
       "Each dimension is given by a named field and has its own dtype. See also\n",
       "the documentation for `numpy structured arrays <https://numpy.org/doc/stable/user/basics.rec.html>`_.\n",
       "\n",
       ".. topic:: Instantiation\n",
       "\n",
       "    For some numpy structured array like\n",
       "\n",
       "        >>> x = np.ones(\n",
       "        >>>     10,\n",
       "        >>>     dtype = [('x',float),('y',int)]\n",
       "        >>> )\n",
       "\n",
       "    then calling\n",
       "\n",
       "        >>> pl = PointList(\n",
       "        >>>     x,\n",
       "        >>>     name = 'my_pointlist',\n",
       "        >>> )\n",
       "\n",
       "    will create a pointlist of length 10 with fields 'x' and 'y'.\n",
       "\n",
       ".. topic:: Data Access\n",
       "\n",
       "    The data can be accessed by\n",
       "\n",
       "        >>> pl.data\n",
       "\n",
       "    or by numpy-like slicing into the object directly\n",
       "\n",
       "        >>> pl[:]\n",
       "\n",
       "    and he individual fields can be accessed by slicing like\n",
       "\n",
       "        >>> pl['x']\n",
       "\n",
       ".. topic:: Properties & Methods\n",
       "\n",
       "    The following are valid pointlist properties or constructions\n",
       "\n",
       "        >>> pl.dtype\n",
       "        >>> pl.fields\n",
       "        >>> pl.length == len(pl)\n",
       "\n",
       "    The following are valid methods\n",
       "\n",
       "        >>> pl.copy()                 # return a copy\n",
       "        >>> pl.add(data)              # concatenates additional data\n",
       "        >>> pl + data                 # concatenates additional data\n",
       "        >>> pl.remove(mask)           # removes indicated data points\n",
       "        >>> pl.sort('x','ascending')  # sort by the selected field\n",
       "        >>> pl.add_fields(new_fields) # return a new pointlist with added fields\n",
       "\u001b[0;31mInit docstring:\u001b[0m\n",
       "Parameters\n",
       "----------\n",
       "data : structured numpy ndarray\n",
       "    the data\n",
       "name : str\n",
       "    name for the PointList\n",
       "\n",
       "Returns\n",
       "-------\n",
       "(PointList)\n",
       "\u001b[0;31mFile:\u001b[0m           ~/work/emd/emdfile/src/emdfile/classes/pointlist.py\n",
       "\u001b[0;31mType:\u001b[0m           type\n",
       "\u001b[0;31mSubclasses:\u001b[0m     "
      ]
     },
     "metadata": {},
     "output_type": "display_data"
    }
   ],
   "source": [
    "emd.PointList?"
   ]
  },
  {
   "cell_type": "markdown",
   "id": "6df1d3c6-2b15-41f8-a2a1-118b062b9ca8",
   "metadata": {},
   "source": [
    "<a name=\"pointlistarrays\"></a>\n",
    "#### ``PointListArray``"
   ]
  },
  {
   "cell_type": "code",
   "execution_count": 27,
   "id": "32b85699-13b8-4ccf-bca3-f51cca7815f2",
   "metadata": {},
   "outputs": [
    {
     "data": {
      "text/plain": [
       "\u001b[0;31mInit signature:\u001b[0m \u001b[0memd\u001b[0m\u001b[0;34m.\u001b[0m\u001b[0mPointListArray\u001b[0m\u001b[0;34m(\u001b[0m\u001b[0mdtype\u001b[0m\u001b[0;34m,\u001b[0m \u001b[0mshape\u001b[0m\u001b[0;34m,\u001b[0m \u001b[0mname\u001b[0m\u001b[0;34m:\u001b[0m \u001b[0mOptional\u001b[0m\u001b[0;34m[\u001b[0m\u001b[0mstr\u001b[0m\u001b[0;34m]\u001b[0m \u001b[0;34m=\u001b[0m \u001b[0;34m'pointlistarray'\u001b[0m\u001b[0;34m)\u001b[0m\u001b[0;34m\u001b[0m\u001b[0;34m\u001b[0m\u001b[0m\n",
       "\u001b[0;31mDocstring:\u001b[0m     \n",
       "A PointListArray instance comprises a 2D grid of PointLists, each sharing a\n",
       "single dtype and set of fields, and each having any variable length. It\n",
       "therefore represents a \"ragged array\" in 2+1 dimensions, i.e. with two\n",
       "dimensions of a fixed shape and one of variable length, embedded in an\n",
       "M dimensional space for PointLists with M fields.\n",
       "\n",
       ".. topic:: Instantiation\n",
       "\n",
       "    Calling\n",
       "\n",
       "        >>> pla = PointListArray(\n",
       "        >>>     [('a',float),('b',float)],\n",
       "        >>>     (5,5)\n",
       "        >>> )\n",
       "\n",
       "    will create a 5x5 PointListArray instance with fields 'a' and 'b', and\n",
       "\n",
       "        >>> dt = np.dtype([('a',float,('b',float)])\n",
       "        >>> for x in range(5):\n",
       "        >>>     for y in range(5):\n",
       "        >>>         pla[x,y] += np.zeros(x+y,dt)\n",
       "\n",
       "    will populate it with some data. Element assignment currently may only be\n",
       "    made to PointLists, so using direct assignment the code above must be\n",
       "\n",
       "        >>> dt = np.dtype([('a',float,('b',float)])\n",
       "        >>> for x in range(5):\n",
       "        >>>     for y in range(5):\n",
       "        >>>         pla[x,y] = PointList(np.zeros(x+y,dt))\n",
       "\n",
       ".. topic:: Attributes & Methods\n",
       "\n",
       "    PointListArrays include attributes\n",
       "\n",
       "        >>> pla.shape\n",
       "        >>> pla.dtype\n",
       "        >>> pla.fields\n",
       "\n",
       "    and methods\n",
       "\n",
       "        >>> pla.copy        # returns a copy\n",
       "        >>> pla.add_fields  # returns a copy with additional fields\n",
       "\u001b[0;31mInit docstring:\u001b[0m\n",
       "        Creates an empty PointListArray.\n",
       "\n",
       "Parameters\n",
       "----------\n",
       "dtype : dtype\n",
       "    the dtype of the data comprising each PointList\n",
       "shape : 2-tuple of ints\n",
       "    the shape of the array of PointLists\n",
       "name : str\n",
       "\n",
       "Returns\n",
       "-------\n",
       "(PointListArray)\n",
       "\u001b[0;31mFile:\u001b[0m           ~/work/emd/emdfile/src/emdfile/classes/pointlistarray.py\n",
       "\u001b[0;31mType:\u001b[0m           type\n",
       "\u001b[0;31mSubclasses:\u001b[0m     "
      ]
     },
     "metadata": {},
     "output_type": "display_data"
    }
   ],
   "source": [
    "emd.PointListArray?"
   ]
  },
  {
   "cell_type": "markdown",
   "id": "ed7468ed-be62-46e7-87ea-5f9a44680093",
   "metadata": {},
   "source": [
    "<a name=\"append\"></a>\n",
    "## Append Mode"
   ]
  },
  {
   "cell_type": "markdown",
   "id": "89ab57cb-0da2-4f3a-b94c-3f98fb34321d",
   "metadata": {},
   "source": [
    "<a name=\"two-trees-one-file\"></a>\n",
    "#### Append two EMD trees to one file"
   ]
  },
  {
   "cell_type": "code",
   "execution_count": 28,
   "id": "6fcbc584-1a9a-4197-8d13-d707697886af",
   "metadata": {},
   "outputs": [
    {
     "name": "stdout",
     "output_type": "stream",
     "text": [
      "/\n",
      "|---root1\n",
      "    |---A\n",
      "    |---B\n",
      "\n",
      "\n"
     ]
    }
   ],
   "source": [
    "# Make the first tree, then save it\n",
    "\n",
    "root1 = emd.Root('root1')\n",
    "root1.tree( emd.Node('A') )\n",
    "root1.tree( emd.Node('B') )\n",
    "emd.save(path, root1, mode='o')\n",
    "\n",
    "emd.printtree(path)"
   ]
  },
  {
   "cell_type": "code",
   "execution_count": 29,
   "id": "a5c053a3-c814-4913-b8c6-ca805404c12f",
   "metadata": {},
   "outputs": [
    {
     "name": "stdout",
     "output_type": "stream",
     "text": [
      "/\n",
      "|---root1\n",
      "|   |---A\n",
      "|   |---B\n",
      "|---root2\n",
      "    |---C\n",
      "    |---D\n",
      "\n",
      "\n"
     ]
    }
   ],
   "source": [
    "# Make the second tree, then append it\n",
    "\n",
    "root2 = emd.Root('root2')\n",
    "root2.tree( emd.Node('C') )\n",
    "root2.tree( emd.Node('D') )\n",
    "emd.save(path, root2, mode='a') # Note mode='a'\n",
    "\n",
    "emd.printtree(path)"
   ]
  },
  {
   "cell_type": "markdown",
   "id": "22c52f6d-17d6-4db8-b6d4-ea54fa098f5f",
   "metadata": {},
   "source": [
    "<a name=\"append-diffmerge-1\"></a>\n",
    "#### Append new data into an existing EMD tree"
   ]
  },
  {
   "cell_type": "code",
   "execution_count": 30,
   "id": "ad5a50c3-9b80-4f65-9474-7ebd96dbf322",
   "metadata": {},
   "outputs": [
    {
     "name": "stdout",
     "output_type": "stream",
     "text": [
      "/\n",
      "|---array1\n",
      "/\n",
      "|---my_root\n",
      "    |---array1\n",
      "\n",
      "\n"
     ]
    }
   ],
   "source": [
    "# Make a simple tree\n",
    "root = emd.Root( 'my_root' )\n",
    "ar1 = emd.Array(np.ones((5,5)),'array1')\n",
    "root.tree(ar1)\n",
    "\n",
    "# Save it\n",
    "emd.save(path, root, mode='o')\n",
    "\n",
    "# Print the runtime and filesystem trees\n",
    "root.tree()\n",
    "emd.printtree(path)"
   ]
  },
  {
   "cell_type": "code",
   "execution_count": 31,
   "id": "8d4d66d7-558f-4dad-882b-497ebf2a41b1",
   "metadata": {},
   "outputs": [
    {
     "name": "stdout",
     "output_type": "stream",
     "text": [
      "/\n",
      "|---array1\n",
      "    |---array2\n"
     ]
    }
   ],
   "source": [
    "# Make a new data node\n",
    "ar2 = emd.Array(np.zeros((3,3,3)),'array2')\n",
    "\n",
    "# Add it to the runtime (Python) tree\n",
    "ar1.tree(ar2)\n",
    "\n",
    "# Inspect it\n",
    "root.tree()"
   ]
  },
  {
   "cell_type": "code",
   "execution_count": 32,
   "id": "cfbbfc5d-f6f3-4113-9e83-1bf96b5f04e2",
   "metadata": {},
   "outputs": [
    {
     "name": "stdout",
     "output_type": "stream",
     "text": [
      "/\n",
      "|---my_root\n",
      "    |---array1\n",
      "        |---array2\n",
      "\n",
      "\n"
     ]
    }
   ],
   "source": [
    "# Append to the file\n",
    "emd.save(path, root, mode='a') # Note the mode\n",
    "\n",
    "# Inspect the HDF5 file\n",
    "emd.printtree(path)"
   ]
  },
  {
   "cell_type": "markdown",
   "id": "08933f70-6fa3-4608-858c-acdc0b1519a4",
   "metadata": {},
   "source": [
    "<a name=\"append-diffmerge-2\"></a>\n",
    "#### Append-over mode to overwrite data"
   ]
  },
  {
   "cell_type": "code",
   "execution_count": 33,
   "id": "7b705dc6-e648-4497-be34-62ab8df3cc27",
   "metadata": {},
   "outputs": [
    {
     "name": "stdout",
     "output_type": "stream",
     "text": [
      "[[1. 1. 1. 1. 1.]\n",
      " [1. 1. 1. 1. 1.]\n",
      " [1. 1. 1. 1. 1.]\n",
      " [1. 1. 1. 1. 1.]\n",
      " [1. 1. 1. 1. 1.]]\n",
      "[[2. 2. 2. 2. 2.]\n",
      " [2. 2. 2. 2. 2.]\n",
      " [2. 2. 2. 2. 2.]\n",
      " [2. 2. 2. 2. 2.]\n",
      " [2. 2. 2. 2. 2.]]\n"
     ]
    }
   ],
   "source": [
    "# Modify the first array's data\n",
    "\n",
    "print(ar1.data)\n",
    "ar1.data += 1\n",
    "print(ar1.data)"
   ]
  },
  {
   "cell_type": "code",
   "execution_count": 34,
   "id": "b7f6db5e-f7f2-40aa-a585-46c141197a0e",
   "metadata": {},
   "outputs": [
    {
     "name": "stdout",
     "output_type": "stream",
     "text": [
      "Array( A 2-dimensional array of shape (5, 5) called 'array1',\n",
      "       with dimensions:\n",
      "\n",
      "           dim0 = [0,1,2,...] pixels\n",
      "           dim1 = [0,1,2,...] pixels\n",
      ")\n",
      "[[1. 1. 1. 1. 1.]\n",
      " [1. 1. 1. 1. 1.]\n",
      " [1. 1. 1. 1. 1.]\n",
      " [1. 1. 1. 1. 1.]\n",
      " [1. 1. 1. 1. 1.]]\n",
      "False\n"
     ]
    }
   ],
   "source": [
    "# Notice that the data in array 1 is now different in the runtime object and on the filesystem\n",
    "\n",
    "_ar1 = emd.read(path, emdpath='my_root/array1')\n",
    "print(_ar1)\n",
    "print(_ar1.data)\n",
    "print(np.array_equal(ar1.data, _ar1.data))"
   ]
  },
  {
   "cell_type": "code",
   "execution_count": 35,
   "id": "bcfda068-b5d4-4355-a8fd-d51fb7c14cb1",
   "metadata": {},
   "outputs": [
    {
     "name": "stdout",
     "output_type": "stream",
     "text": [
      "/\n",
      "|---my_root\n",
      "    |---array1\n",
      "        |---array2\n",
      "\n",
      "\n",
      "Array( A 2-dimensional array of shape (5, 5) called 'array1',\n",
      "       with dimensions:\n",
      "\n",
      "           dim0 = [0,1,2,...] pixels\n",
      "           dim1 = [0,1,2,...] pixels\n",
      ")\n",
      "[[1. 1. 1. 1. 1.]\n",
      " [1. 1. 1. 1. 1.]\n",
      " [1. 1. 1. 1. 1.]\n",
      " [1. 1. 1. 1. 1.]\n",
      " [1. 1. 1. 1. 1.]]\n",
      "False\n"
     ]
    }
   ],
   "source": [
    "# A normal append-mode save will *NOT* update the data\n",
    "\n",
    "# Perform a 'normal' append\n",
    "emd.save(path, root, mode='a')\n",
    "\n",
    "# Inspect the file tree - it should look the same\n",
    "emd.printtree(path)\n",
    "\n",
    "# Notice that the data in Python and on the filesystem are still different\n",
    "_ar1 = emd.read(path, emdpath='my_root/array1')\n",
    "print(_ar1)\n",
    "print(_ar1.data)\n",
    "print(np.array_equal(ar1.data, _ar1.data))"
   ]
  },
  {
   "cell_type": "code",
   "execution_count": 36,
   "id": "cd38ea6e-f038-4f4a-8f08-bde4d3394912",
   "metadata": {},
   "outputs": [
    {
     "name": "stdout",
     "output_type": "stream",
     "text": [
      "/\n",
      "|---my_root\n",
      "    |---array1\n",
      "        |---array2\n",
      "\n",
      "\n",
      "Array( A 2-dimensional array of shape (5, 5) called 'array1',\n",
      "       with dimensions:\n",
      "\n",
      "           dim0 = [0,1,2,...] pixels\n",
      "           dim1 = [0,1,2,...] pixels\n",
      ")\n",
      "[[2. 2. 2. 2. 2.]\n",
      " [2. 2. 2. 2. 2.]\n",
      " [2. 2. 2. 2. 2.]\n",
      " [2. 2. 2. 2. 2.]\n",
      " [2. 2. 2. 2. 2.]]\n",
      "True\n"
     ]
    }
   ],
   "source": [
    "# An \"append-over\" mode save *WILL* update the data\n",
    "\n",
    "# Perform an appendover operation\n",
    "emd.save(path, root, mode='ao')\n",
    "\n",
    "# Inspect the file tree - it should look the same\n",
    "emd.printtree(path)\n",
    "\n",
    "# Now the data in Python and on the filesystem match\n",
    "_ar1 = emd.read(path, emdpath='my_root/array1')\n",
    "print(_ar1)\n",
    "print(_ar1.data)\n",
    "print(np.array_equal(ar1.data, _ar1.data))"
   ]
  },
  {
   "cell_type": "markdown",
   "id": "f93fa6c1-7ef6-4a89-9748-d825b4c5f2b8",
   "metadata": {},
   "source": [
    "### Note\n",
    "\n",
    "that some caution may be in order when using append-over mode, particularly if you're dealing with larger data blocks.  See the discussion in the emdfile doc pages. ((TODO - link))"
   ]
  },
  {
   "cell_type": "code",
   "execution_count": null,
   "id": "b5067832-80b1-4cb8-9cec-355787b3aa03",
   "metadata": {},
   "outputs": [],
   "source": []
  }
 ],
 "metadata": {
  "kernelspec": {
   "display_name": "emdfile",
   "language": "python",
   "name": "emdfile"
  },
  "language_info": {
   "codemirror_mode": {
    "name": "ipython",
    "version": 3
   },
   "file_extension": ".py",
   "mimetype": "text/x-python",
   "name": "python",
   "nbconvert_exporter": "python",
   "pygments_lexer": "ipython3",
   "version": "3.12.2"
  }
 },
 "nbformat": 4,
 "nbformat_minor": 5
}
